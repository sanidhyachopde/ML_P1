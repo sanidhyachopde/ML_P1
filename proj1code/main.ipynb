{
 "cells": [
  {
   "cell_type": "code",
   "execution_count": 284,
   "metadata": {},
   "outputs": [],
   "source": [
    "import numpy as np\n",
    "import pandas as pd\n",
    "import matplotlib.pyplot as plt\n",
    "from sklearn.metrics import confusion_matrix\n",
    "from sklearn.model_selection import train_test_split\n",
    "from sklearn import preprocessing"
   ]
  },
  {
   "cell_type": "code",
   "execution_count": 285,
   "metadata": {},
   "outputs": [],
   "source": [
    "#Converting the dataset into a pandas dataframe.\n",
    "df = pd.read_csv('/Users/sanidhya/Downloads/wdbc.dataset', header=None)"
   ]
  },
  {
   "cell_type": "code",
   "execution_count": 286,
   "metadata": {},
   "outputs": [],
   "source": [
    "#Mapping the values B/M to 0/1 in the diagnosis column.\n",
    "df[1] = df[1].map({'B': 0, 'M': 1})\n",
    "\n",
    "#Dropping the columns ID and Diagnosis to obtain the dataset.\n",
    "X = df.drop([0,1],1)\n",
    "X = preprocessing.scale(X)\n",
    "\n",
    "#Obtaining Y which will be the diagnosis column.\n",
    "Y = df[1]\n",
    "\n",
    "#Splitting the data into Training, testing and validation data in 8:1:1 ratio.\n",
    "X_Training, X_Testing, Y_Training, Y_Testing = train_test_split(X, Y, test_size=0.2, random_state=10)\n",
    "X_Testing, X_Validation, Y_Testing, Y_Validation = train_test_split(X_Testing,Y_Testing, test_size=0.5, random_state=10)\n",
    "\n",
    "#Reshaping the data to make it suitable for mathematical calculations.\n",
    "X_Training, Y_Training = X_Training.T, Y_Training.values.reshape(1, Y_Training.shape[0])\n",
    "X_Testing, Y_Testing = X_Testing.T, Y_Testing.values.reshape(1, Y_Testing.shape[0])\n",
    "X_Validation, Y_Validation = X_Validation.T, Y_Validation.values.reshape(1, Y_Validation.shape[0])"
   ]
  },
  {
   "cell_type": "code",
   "execution_count": 287,
   "metadata": {},
   "outputs": [],
   "source": [
    "#Defining the sigmoid function which is used to map any real value into another value between 0 and 1. \n",
    "#It is used to map predictions to probabilities.\n",
    "def sigmoid(s):\n",
    "    sig = 1 / (1 + np.exp(-s))\n",
    "    return sig"
   ]
  },
  {
   "cell_type": "code",
   "execution_count": 288,
   "metadata": {},
   "outputs": [],
   "source": [
    "#Definition for the preddiction function\n",
    "def prediction(w, b, X_Data):\n",
    "\n",
    "    m = X_Data.shape[1]\n",
    "    Y_Prediction = np.zeros((1,m))\n",
    "    S = sigmoid(np.dot(w.T, X_Data) + b)\n",
    "    for i in range(S.shape[1]):\n",
    "        Y_Prediction[0, i] = 1 if S[0, i] > 0.5 else 0\n",
    "\n",
    "    return Y_Prediction"
   ]
  },
  {
   "cell_type": "code",
   "execution_count": 289,
   "metadata": {},
   "outputs": [],
   "source": [
    "#Definition to plot cost function\n",
    "def plot_costfunction(cost):\n",
    "    plt.plot(cost,label=\"loss\")\n",
    "    plt.xlabel('Epochs',fontweight=\"bold\",fontsize = 10)\n",
    "    plt.ylabel('Loss',fontweight=\"bold\",fontsize = 10)\n",
    "    plt.title(\"Cost Function\",fontweight=\"bold\",fontsize = 15)\n",
    "    plt.legend()\n",
    "    plt.show()"
   ]
  },
  {
   "cell_type": "code",
   "execution_count": 290,
   "metadata": {},
   "outputs": [],
   "source": [
    "#Definition to plot training accuracy\n",
    "def plot_accuracy(accuracy):\n",
    "    plt.plot(accuracy,label=\"accuracy\")\n",
    "    plt.xlabel('Epochs',fontweight=\"bold\",fontsize = 10)\n",
    "    plt.ylabel('Training Accuracy',fontweight=\"bold\",fontsize = 10)\n",
    "    plt.title(\"Accuracy Function\",fontweight=\"bold\",fontsize = 15)\n",
    "    plt.legend()\n",
    "    plt.show()"
   ]
  },
  {
   "cell_type": "code",
   "execution_count": 291,
   "metadata": {},
   "outputs": [],
   "source": [
    "#Function to calculate the confusion matrix\n",
    "def confusionmatrix(y_true, y_pred):\n",
    "    cmatrix = confusion_matrix(y_true, y_pred)\n",
    "    TP = cmatrix[0,0] # True Positive\n",
    "    FN = cmatrix[0,1] # False Negative\n",
    "    FP = cmatrix[1,0] # False Positive\n",
    "    TN = cmatrix[1,1] # True Negative   \n",
    "    return TP,TN,FP,FN"
   ]
  },
  {
   "cell_type": "code",
   "execution_count": 292,
   "metadata": {},
   "outputs": [
    {
     "name": "stdout",
     "output_type": "stream",
     "text": [
      "Cost is 0.6952487268908816\n",
      "Cost is 0.4264074750252153\n",
      "Cost is 0.33265119544179317\n",
      "Cost is 0.2835725019244123\n",
      "Cost is 0.25263079091120716\n",
      "Cost is 0.23096801070501197\n",
      "Cost is 0.21475254460864554\n",
      "Cost is 0.20204143124307133\n",
      "Cost is 0.19173663577250183\n",
      "Cost is 0.18316669376987563\n",
      "Cost is 0.17589559865591592\n",
      "Cost is 0.16962655904452417\n",
      "Cost is 0.16414971665766404\n",
      "Cost is 0.1593119673479036\n",
      "Cost is 0.15499865155302434\n",
      "Cost is 0.15112197424690466\n",
      "Cost is 0.1476134181748294\n",
      "Cost is 0.14441862053349663\n",
      "Cost is 0.14149382109848546\n",
      "Cost is 0.13880334247278692\n",
      "Accuracy: 1.0\n",
      "Precision: 1.0\n",
      "Recall: 1.0\n",
      "Training accuracy: 96.7032967032967%\n",
      "Testing accuracy: 100.0%\n"
     ]
    }
   ],
   "source": [
    "#Give some values for no of epochs and the learning rate\n",
    "epochs = 1000\n",
    "learningrate = 0.005\n",
    "\n",
    "X = X_Training\n",
    "Y = Y_Training\n",
    "losstrack = []\n",
    "accuracytrack = []\n",
    "m = X.shape[1]\n",
    "w = np.random.randn(X.shape[0], 1)*0.01\n",
    "b = 0\n",
    "\n",
    "for epoch in range(epochs):\n",
    "    z = np.dot(w.T, X) + b\n",
    "    p = sigmoid(z)\n",
    "    \n",
    "    #Using the cross-entropy cost function\n",
    "    \n",
    "    cost = -np.sum(np.multiply(np.log(p) , Y) + np.multiply((1 - Y), np.log(1 - p)))/m\n",
    "    \n",
    "    losstrack.append(np.squeeze(cost))\n",
    "\n",
    "    dz = p-Y\n",
    "    dw = (1 / m) * np.dot(X, dz.T)\n",
    "    db = (1 / m) * np.sum(dz)\n",
    "    w = w - learningrate * dw\n",
    "    b = b - learningrate * db\n",
    "    \n",
    "    if epoch % 50 == 0 :\n",
    "        print('Cost is '+str(cost))\n",
    "\n",
    "    \n",
    "    Y_prediction_train = prediction(w, b, X_Training)\n",
    "\n",
    "    #Calculating the confusion matrix using the training data\n",
    "    TP,TN,FP,FN = confusionmatrix(Y_Training.T, Y_prediction_train.T)\n",
    "    accuracy = (TP+TN)/(TP+TN+FP+FN)\n",
    "    accuracytrack.append(np.squeeze(accuracy))\n",
    "\n",
    "\n",
    "#Calculating accuracy, precision and recall using the testing data\n",
    "Y_prediction_test = prediction(w, b, X_Testing)\n",
    "TP,TN,FP,FN = confusionmatrix(Y_Testing.T, Y_prediction_test.T)\n",
    "\n",
    "accuracy = (TP+TN)/(TP+TN+FP+FN)\n",
    "precision = TP/(TP+FP)\n",
    "recall = TP/(TP+FN)\n",
    "\n",
    "print ('Accuracy: {}'.format(accuracy))\n",
    "print ('Precision: {}'.format(precision))\n",
    "print ('Recall: {}'.format(recall))\n",
    "print('Training accuracy: {}%'.format(100 - np.mean(np.abs(Y_prediction_train - Y_Training)) * 100))\n",
    "print('Testing accuracy: {}%'.format(100 - np.mean(np.abs(Y_prediction_test - Y_Testing)) * 100))"
   ]
  },
  {
   "cell_type": "code",
   "execution_count": 293,
   "metadata": {},
   "outputs": [
    {
     "data": {
      "image/png": "[encoded data removed]",
      "text/plain": [
       "<Figure size 432x288 with 1 Axes>"
      ]
     },
     "metadata": {
      "needs_background": "light"
     },
     "output_type": "display_data"
    }
   ],
   "source": [
    "#Plotting the cost function\n",
    "plot_costfunction(losstrack)"
   ]
  },
  {
   "cell_type": "code",
   "execution_count": 294,
   "metadata": {
    "scrolled": true
   },
   "outputs": [
    {
     "data": {
      "image/png": "[encoded data removed]",
      "text/plain": [
       "<Figure size 432x288 with 1 Axes>"
      ]
     },
     "metadata": {
      "needs_background": "light"
     },
     "output_type": "display_data"
    }
   ],
   "source": [
    "#Plotting the training accuracy\n",
    "plot_accuracy(accuracytrack)"
   ]
  }
 ],
 "metadata": {
  "kernelspec": {
   "display_name": "Python 3",
   "language": "python",
   "name": "python3"
  },
  "language_info": {
   "codemirror_mode": {
    "name": "ipython",
    "version": 3
   },
   "file_extension": ".py",
   "mimetype": "text/x-python",
   "name": "python",
   "nbconvert_exporter": "python",
   "pygments_lexer": "ipython3",
   "version": "3.7.4"
  }
 },
 "nbformat": 4,
 "nbformat_minor": 2
}
